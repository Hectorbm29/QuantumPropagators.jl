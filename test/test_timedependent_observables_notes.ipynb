{
 "cells": [
  {
   "cell_type": "markdown",
   "id": "e8b420fc",
   "metadata": {},
   "source": [
    "# Rabi Cycling in the Two-Level-System — Lab and Rotating Frame"
   ]
  },
  {
   "cell_type": "code",
   "execution_count": 1,
   "id": "099e6f02",
   "metadata": {
    "ExecuteTime": {
     "end_time": "2023-04-04T18:51:50.333081Z",
     "start_time": "2023-04-04T18:51:50.078426Z"
    }
   },
   "outputs": [],
   "source": [
    "from sympy import Function, symbols, sqrt, Eq, Abs, exp, cos, sin, Matrix, dsolve, solve"
   ]
  },
  {
   "cell_type": "code",
   "execution_count": 2,
   "id": "392d26c5",
   "metadata": {
    "ExecuteTime": {
     "end_time": "2023-04-04T18:51:50.336465Z",
     "start_time": "2023-04-04T18:51:50.334384Z"
    }
   },
   "outputs": [],
   "source": [
    "from sympy import I as 𝕚"
   ]
  },
  {
   "cell_type": "code",
   "execution_count": 3,
   "id": "22151c90",
   "metadata": {
    "ExecuteTime": {
     "end_time": "2023-04-04T18:51:50.339452Z",
     "start_time": "2023-04-04T18:51:50.337254Z"
    }
   },
   "outputs": [],
   "source": [
    "g = Function('g')\n",
    "e = Function('e')\n",
    "t = symbols('t', positive=True)\n",
    "Δ = 0#symbols('Delta', real=True)\n",
    "Ω0 = symbols('Ω_0', real=True)\n",
    "Ω = symbols('Omega', real=True)"
   ]
  },
  {
   "cell_type": "code",
   "execution_count": 4,
   "id": "b7ac0d90",
   "metadata": {
    "ExecuteTime": {
     "end_time": "2023-04-04T18:51:50.447612Z",
     "start_time": "2023-04-04T18:51:50.340331Z"
    }
   },
   "outputs": [
    {
     "data": {
      "text/latex": [
       "$\\displaystyle \\left[\\begin{matrix}0 & - \\frac{Ω_{0}}{2}\\\\- \\frac{Ω_{0}}{2} & 0\\end{matrix}\\right]$"
      ],
      "text/plain": [
       "Matrix([\n",
       "[     0, -Ω_0/2],\n",
       "[-Ω_0/2,      0]])"
      ]
     },
     "execution_count": 4,
     "metadata": {},
     "output_type": "execute_result"
    }
   ],
   "source": [
    "Ĥ = Matrix([\n",
    "    [  0  , -Ω0/2],\n",
    "    [-Ω0/2,    Δ ]\n",
    "])\n",
    "Ĥ"
   ]
  },
  {
   "cell_type": "code",
   "execution_count": 5,
   "id": "4d51a2cf",
   "metadata": {
    "ExecuteTime": {
     "end_time": "2023-04-04T18:51:50.453025Z",
     "start_time": "2023-04-04T18:51:50.449568Z"
    }
   },
   "outputs": [],
   "source": [
    "TDSE_system = [\n",
    "    g(t).diff(t) + 𝕚 * (Ĥ[0,0] * g(t) + Ĥ[0,1] * e(t)),\n",
    "    e(t).diff(t) + 𝕚 * (Ĥ[1,0]*  g(t) + Ĥ[1,1] * e(t)),\n",
    "]"
   ]
  },
  {
   "cell_type": "code",
   "execution_count": 6,
   "id": "74fa6ba2",
   "metadata": {
    "ExecuteTime": {
     "end_time": "2023-04-04T18:51:50.575516Z",
     "start_time": "2023-04-04T18:51:50.453863Z"
    }
   },
   "outputs": [],
   "source": [
    "sols_gen = dsolve(TDSE_system, [g(t), e(t)])"
   ]
  },
  {
   "cell_type": "markdown",
   "id": "a501c1d6",
   "metadata": {},
   "source": [
    "Note that `dsolve` allows to specify boundary conditions, but the resulting expressions are hard to simply. We do better by solving for the integration constants \"manually\" later on."
   ]
  },
  {
   "cell_type": "code",
   "execution_count": 7,
   "id": "2718f04e",
   "metadata": {
    "ExecuteTime": {
     "end_time": "2023-04-04T18:51:50.578816Z",
     "start_time": "2023-04-04T18:51:50.576751Z"
    }
   },
   "outputs": [],
   "source": [
    "effective_rabi_freq = {\n",
    "    Ω: sqrt(Δ**2 + Ω0**2)\n",
    "}"
   ]
  },
  {
   "cell_type": "code",
   "execution_count": 8,
   "id": "75ee2c2a",
   "metadata": {
    "ExecuteTime": {
     "end_time": "2023-04-04T18:51:50.583687Z",
     "start_time": "2023-04-04T18:51:50.579784Z"
    }
   },
   "outputs": [
    {
     "data": {
      "text/latex": [
       "$\\displaystyle \\Omega = \\left|{Ω_{0}}\\right|$"
      ],
      "text/plain": [
       "Eq(Omega, Abs(Ω_0))"
      ]
     },
     "execution_count": 8,
     "metadata": {},
     "output_type": "execute_result"
    }
   ],
   "source": [
    "Eq(Ω, effective_rabi_freq[Ω])"
   ]
  },
  {
   "cell_type": "code",
   "execution_count": 9,
   "id": "79b723c4",
   "metadata": {
    "ExecuteTime": {
     "end_time": "2023-04-04T18:51:50.586518Z",
     "start_time": "2023-04-04T18:51:50.584742Z"
    }
   },
   "outputs": [],
   "source": [
    "find_Ω = {\n",
    "    effective_rabi_freq[Ω]: Ω\n",
    "}"
   ]
  },
  {
   "cell_type": "code",
   "execution_count": 10,
   "id": "b05f056e",
   "metadata": {
    "ExecuteTime": {
     "end_time": "2023-04-04T18:51:50.591518Z",
     "start_time": "2023-04-04T18:51:50.587800Z"
    }
   },
   "outputs": [
    {
     "data": {
      "text/latex": [
       "$\\displaystyle g{\\left(t \\right)} = - C_{1} e^{- \\frac{i t Ω_{0}}{2}} + C_{2} e^{\\frac{i t Ω_{0}}{2}}$"
      ],
      "text/plain": [
       "Eq(g(t), -C1*exp(-I*t*Ω_0/2) + C2*exp(I*t*Ω_0/2))"
      ]
     },
     "execution_count": 10,
     "metadata": {},
     "output_type": "execute_result"
    }
   ],
   "source": [
    "sols_gen[0].subs(find_Ω)"
   ]
  },
  {
   "cell_type": "code",
   "execution_count": 11,
   "id": "e8e0977b",
   "metadata": {
    "ExecuteTime": {
     "end_time": "2023-04-04T18:51:50.596884Z",
     "start_time": "2023-04-04T18:51:50.592648Z"
    }
   },
   "outputs": [
    {
     "data": {
      "text/latex": [
       "$\\displaystyle e{\\left(t \\right)} = C_{1} e^{- \\frac{i t Ω_{0}}{2}} + C_{2} e^{\\frac{i t Ω_{0}}{2}}$"
      ],
      "text/plain": [
       "Eq(e(t), C1*exp(-I*t*Ω_0/2) + C2*exp(I*t*Ω_0/2))"
      ]
     },
     "execution_count": 11,
     "metadata": {},
     "output_type": "execute_result"
    }
   ],
   "source": [
    "sols_gen[1].subs(find_Ω).expand()"
   ]
  },
  {
   "cell_type": "code",
   "execution_count": 12,
   "id": "394f4efd",
   "metadata": {
    "ExecuteTime": {
     "end_time": "2023-04-04T18:51:50.599647Z",
     "start_time": "2023-04-04T18:51:50.597777Z"
    }
   },
   "outputs": [],
   "source": [
    "boundary_conditions = {\n",
    "    t: 0,\n",
    "    g(t): 1,\n",
    "    e(t) : 0,\n",
    "}"
   ]
  },
  {
   "cell_type": "code",
   "execution_count": 13,
   "id": "23be389b",
   "metadata": {
    "ExecuteTime": {
     "end_time": "2023-04-04T18:51:50.602252Z",
     "start_time": "2023-04-04T18:51:50.600485Z"
    }
   },
   "outputs": [],
   "source": [
    "find_Ω0sq = {\n",
    "    Ω**2 - Δ**2: Ω0**2\n",
    "}"
   ]
  },
  {
   "cell_type": "code",
   "execution_count": 14,
   "id": "be349bd8",
   "metadata": {
    "ExecuteTime": {
     "end_time": "2023-04-04T18:51:50.608787Z",
     "start_time": "2023-04-04T18:51:50.607085Z"
    }
   },
   "outputs": [],
   "source": [
    "C1, C2 = symbols(\"C1, C2\")"
   ]
  },
  {
   "cell_type": "code",
   "execution_count": 15,
   "id": "7d321d1e",
   "metadata": {
    "ExecuteTime": {
     "end_time": "2023-04-04T18:51:50.623058Z",
     "start_time": "2023-04-04T18:51:50.609795Z"
    }
   },
   "outputs": [],
   "source": [
    "_integration_constants = solve(\n",
    "    [sol.subs(find_Ω).subs(boundary_conditions) for sol in sols_gen],\n",
    "    [C1, C2]\n",
    ")\n",
    "integration_constants = {\n",
    "    k: v.subs(find_Ω0sq)\n",
    "    for (k, v) in _integration_constants.items()\n",
    "}"
   ]
  },
  {
   "cell_type": "code",
   "execution_count": 16,
   "id": "894eeee2",
   "metadata": {
    "ExecuteTime": {
     "end_time": "2023-04-04T18:51:50.627475Z",
     "start_time": "2023-04-04T18:51:50.624030Z"
    }
   },
   "outputs": [
    {
     "data": {
      "text/latex": [
       "$\\displaystyle C_{1} = - \\frac{1}{2}$"
      ],
      "text/plain": [
       "Eq(C1, -1/2)"
      ]
     },
     "execution_count": 16,
     "metadata": {},
     "output_type": "execute_result"
    }
   ],
   "source": [
    "Eq(C1, integration_constants[C1])"
   ]
  },
  {
   "cell_type": "code",
   "execution_count": 17,
   "id": "851352b3",
   "metadata": {
    "ExecuteTime": {
     "end_time": "2023-04-04T18:51:50.631965Z",
     "start_time": "2023-04-04T18:51:50.628291Z"
    }
   },
   "outputs": [
    {
     "data": {
      "text/latex": [
       "$\\displaystyle C_{2} = \\frac{1}{2}$"
      ],
      "text/plain": [
       "Eq(C2, 1/2)"
      ]
     },
     "execution_count": 17,
     "metadata": {},
     "output_type": "execute_result"
    }
   ],
   "source": [
    "Eq(C2, integration_constants[C2])"
   ]
  },
  {
   "cell_type": "code",
   "execution_count": 18,
   "id": "339ee928",
   "metadata": {
    "ExecuteTime": {
     "end_time": "2023-04-04T18:51:50.634635Z",
     "start_time": "2023-04-04T18:51:50.632883Z"
    }
   },
   "outputs": [],
   "source": [
    "global_phase = exp(-𝕚 * Δ * t / 2)"
   ]
  },
  {
   "cell_type": "code",
   "execution_count": 19,
   "id": "21dc5c9c",
   "metadata": {
    "ExecuteTime": {
     "end_time": "2023-04-04T18:51:50.638038Z",
     "start_time": "2023-04-04T18:51:50.635556Z"
    }
   },
   "outputs": [],
   "source": [
    "def remove_global_phase(eq, global_phase=global_phase):\n",
    "    return Eq(eq.lhs, eq.rhs * global_phase.conjugate())\n",
    "\n",
    "def restore_global_phase(eq, global_phase=global_phase):\n",
    "    return Eq(eq.lhs, eq.rhs * global_phase)"
   ]
  },
  {
   "cell_type": "code",
   "execution_count": 20,
   "id": "43fb88d4",
   "metadata": {
    "ExecuteTime": {
     "end_time": "2023-04-04T18:51:50.640695Z",
     "start_time": "2023-04-04T18:51:50.639029Z"
    }
   },
   "outputs": [],
   "source": [
    "def collect(eq, term):\n",
    "    return Eq(eq.lhs, eq.rhs.collect(term))"
   ]
  },
  {
   "cell_type": "code",
   "execution_count": 21,
   "id": "78cc5307",
   "metadata": {
    "ExecuteTime": {
     "end_time": "2023-04-04T18:51:50.643399Z",
     "start_time": "2023-04-04T18:51:50.641413Z"
    }
   },
   "outputs": [],
   "source": [
    "def simplify_sol_g(sol_g):\n",
    "    rhs = (\n",
    "        sol_g\n",
    "        .rhs\n",
    "        .rewrite(sin)\n",
    "        .expand()\n",
    "        .collect(𝕚)\n",
    "        .subs(effective_rabi_freq)\n",
    "        .simplify()\n",
    "        .subs(find_Ω)\n",
    "    )\n",
    "    return Eq(sol_g.lhs, rhs)"
   ]
  },
  {
   "cell_type": "code",
   "execution_count": 22,
   "id": "3a034ee0",
   "metadata": {
    "ExecuteTime": {
     "end_time": "2023-04-04T18:51:50.692947Z",
     "start_time": "2023-04-04T18:51:50.644232Z"
    }
   },
   "outputs": [
    {
     "data": {
      "text/latex": [
       "$\\displaystyle g{\\left(t \\right)} = \\cos{\\left(\\frac{t Ω_{0}}{2} \\right)}$"
      ],
      "text/plain": [
       "Eq(g(t), cos(t*Ω_0/2))"
      ]
     },
     "execution_count": 22,
     "metadata": {},
     "output_type": "execute_result"
    }
   ],
   "source": [
    "sol_g = restore_global_phase(\n",
    "    simplify_sol_g(\n",
    "        collect(\n",
    "            remove_global_phase(\n",
    "                sols_gen[0]\n",
    "                .subs(find_Ω)\n",
    "                .subs(integration_constants)\n",
    "            ).expand(),\n",
    "            exp(𝕚 * Ω * t / 2                                                                   )\n",
    "        )\n",
    "    )\n",
    ")\n",
    "sol_g"
   ]
  },
  {
   "cell_type": "code",
   "execution_count": 23,
   "id": "143d31e9",
   "metadata": {
    "ExecuteTime": {
     "end_time": "2023-04-04T18:51:50.709694Z",
     "start_time": "2023-04-04T18:51:50.693841Z"
    }
   },
   "outputs": [
    {
     "data": {
      "text/latex": [
       "$\\displaystyle e{\\left(t \\right)} = i \\sin{\\left(\\frac{t Ω_{0}}{2} \\right)}$"
      ],
      "text/plain": [
       "Eq(e(t), I*sin(t*Ω_0/2))"
      ]
     },
     "execution_count": 23,
     "metadata": {},
     "output_type": "execute_result"
    }
   ],
   "source": [
    "sol_e = restore_global_phase(\n",
    "    remove_global_phase(\n",
    "        sols_gen[1].subs(find_Ω).subs(integration_constants)\n",
    "    ).expand().rewrite(sin).expand()\n",
    ")\n",
    "sol_e"
   ]
  },
  {
   "cell_type": "code",
   "execution_count": 24,
   "id": "5480adc7",
   "metadata": {
    "ExecuteTime": {
     "end_time": "2023-04-04T18:51:50.715701Z",
     "start_time": "2023-04-04T18:51:50.710650Z"
    }
   },
   "outputs": [
    {
     "data": {
      "text/latex": [
       "$\\displaystyle \\left|{e{\\left(t \\right)}}\\right|^{2} = \\sin^{2}{\\left(\\frac{t Ω_{0}}{2} \\right)}$"
      ],
      "text/plain": [
       "Eq(Abs(e(t))**2, sin(t*Ω_0/2)**2)"
      ]
     },
     "execution_count": 24,
     "metadata": {},
     "output_type": "execute_result"
    }
   ],
   "source": [
    "pop_e = (sol_e.rhs * sol_e.rhs.conjugate())\n",
    "Eq(Abs(e(t))**2, pop_e)"
   ]
  },
  {
   "cell_type": "code",
   "execution_count": null,
   "id": "8e1e5311",
   "metadata": {
    "ExecuteTime": {
     "end_time": "2023-04-02T17:29:49.692024Z",
     "start_time": "2023-04-02T17:29:49.678226Z"
    }
   },
   "outputs": [],
   "source": []
  },
  {
   "cell_type": "code",
   "execution_count": 25,
   "id": "4b5aa5ea",
   "metadata": {
    "ExecuteTime": {
     "end_time": "2023-04-04T18:51:50.719696Z",
     "start_time": "2023-04-04T18:51:50.716584Z"
    }
   },
   "outputs": [
    {
     "data": {
      "text/latex": [
       "$\\displaystyle \\left[\\begin{matrix}\\cos{\\left(\\frac{t Ω_{0}}{2} \\right)}\\\\i \\sin{\\left(\\frac{t Ω_{0}}{2} \\right)}\\end{matrix}\\right]$"
      ],
      "text/plain": [
       "Matrix([\n",
       "[  cos(t*Ω_0/2)],\n",
       "[I*sin(t*Ω_0/2)]])"
      ]
     },
     "execution_count": 25,
     "metadata": {},
     "output_type": "execute_result"
    }
   ],
   "source": [
    "Ψ = Matrix([sol_g.rhs, sol_e.rhs])\n",
    "Ψ"
   ]
  },
  {
   "cell_type": "code",
   "execution_count": 26,
   "id": "3202afa8",
   "metadata": {
    "ExecuteTime": {
     "end_time": "2023-04-04T18:51:50.723124Z",
     "start_time": "2023-04-04T18:51:50.720701Z"
    }
   },
   "outputs": [],
   "source": [
    "ωₗ = symbols(\"omega_l\", positive=True)"
   ]
  },
  {
   "cell_type": "code",
   "execution_count": 27,
   "id": "27026e03",
   "metadata": {
    "ExecuteTime": {
     "end_time": "2023-04-04T18:51:50.727503Z",
     "start_time": "2023-04-04T18:51:50.724131Z"
    }
   },
   "outputs": [
    {
     "data": {
      "text/latex": [
       "$\\displaystyle \\left[\\begin{matrix}1 & 0\\\\0 & e^{- i \\omega_{l} t}\\end{matrix}\\right]$"
      ],
      "text/plain": [
       "Matrix([\n",
       "[1,                 0],\n",
       "[0, exp(-I*omega_l*t)]])"
      ]
     },
     "execution_count": 27,
     "metadata": {},
     "output_type": "execute_result"
    }
   ],
   "source": [
    "U = Matrix([[1, 0], [0, exp(-𝕚*ωₗ*t)]])\n",
    "U"
   ]
  },
  {
   "cell_type": "code",
   "execution_count": 28,
   "id": "c05082d9",
   "metadata": {
    "ExecuteTime": {
     "end_time": "2023-04-04T18:51:50.731481Z",
     "start_time": "2023-04-04T18:51:50.728539Z"
    }
   },
   "outputs": [
    {
     "data": {
      "text/latex": [
       "$\\displaystyle \\left[\\begin{matrix}1 & 0\\\\0 & e^{i \\omega_{l} t}\\end{matrix}\\right]$"
      ],
      "text/plain": [
       "Matrix([\n",
       "[1,                0],\n",
       "[0, exp(I*omega_l*t)]])"
      ]
     },
     "execution_count": 28,
     "metadata": {},
     "output_type": "execute_result"
    }
   ],
   "source": [
    "U_dag = U.conjugate().transpose()\n",
    "U_dag"
   ]
  },
  {
   "cell_type": "code",
   "execution_count": 29,
   "id": "b0c6a2c9",
   "metadata": {
    "ExecuteTime": {
     "end_time": "2023-04-04T18:51:50.735356Z",
     "start_time": "2023-04-04T18:51:50.732221Z"
    }
   },
   "outputs": [
    {
     "data": {
      "text/latex": [
       "$\\displaystyle \\left[\\begin{matrix}\\cos{\\left(\\frac{t Ω_{0}}{2} \\right)}\\\\i e^{i \\omega_{l} t} \\sin{\\left(\\frac{t Ω_{0}}{2} \\right)}\\end{matrix}\\right]$"
      ],
      "text/plain": [
       "Matrix([\n",
       "[                   cos(t*Ω_0/2)],\n",
       "[I*exp(I*omega_l*t)*sin(t*Ω_0/2)]])"
      ]
     },
     "execution_count": 29,
     "metadata": {},
     "output_type": "execute_result"
    }
   ],
   "source": [
    "Ψ_lab = U_dag @ Ψ\n",
    "Ψ_lab"
   ]
  },
  {
   "cell_type": "code",
   "execution_count": 30,
   "id": "839c9c22",
   "metadata": {
    "ExecuteTime": {
     "end_time": "2023-04-04T18:51:50.738954Z",
     "start_time": "2023-04-04T18:51:50.736372Z"
    }
   },
   "outputs": [
    {
     "data": {
      "text/latex": [
       "$\\displaystyle \\left[\\begin{matrix}0 & 1\\\\1 & 0\\end{matrix}\\right]$"
      ],
      "text/plain": [
       "Matrix([\n",
       "[0, 1],\n",
       "[1, 0]])"
      ]
     },
     "execution_count": 30,
     "metadata": {},
     "output_type": "execute_result"
    }
   ],
   "source": [
    "σx = Matrix([[0, 1], [1, 0]])\n",
    "σx"
   ]
  },
  {
   "cell_type": "code",
   "execution_count": 31,
   "id": "5549c23a",
   "metadata": {
    "ExecuteTime": {
     "end_time": "2023-04-04T18:51:50.742176Z",
     "start_time": "2023-04-04T18:51:50.739842Z"
    }
   },
   "outputs": [
    {
     "data": {
      "text/latex": [
       "$\\displaystyle \\left[\\begin{matrix}0 & - i\\\\i & 0\\end{matrix}\\right]$"
      ],
      "text/plain": [
       "Matrix([\n",
       "[0, -I],\n",
       "[I,  0]])"
      ]
     },
     "execution_count": 31,
     "metadata": {},
     "output_type": "execute_result"
    }
   ],
   "source": [
    "σy = Matrix([[0, -𝕚], [𝕚, 0]])\n",
    "σy"
   ]
  },
  {
   "cell_type": "code",
   "execution_count": 32,
   "id": "f3aed051",
   "metadata": {
    "ExecuteTime": {
     "end_time": "2023-04-04T18:51:50.744768Z",
     "start_time": "2023-04-04T18:51:50.743265Z"
    }
   },
   "outputs": [],
   "source": [
    "def inner(a, b):\n",
    "    return a.dot(b, hermitian=True, conjugate_convention=\"left\")"
   ]
  },
  {
   "cell_type": "code",
   "execution_count": 33,
   "id": "a01011e4",
   "metadata": {
    "ExecuteTime": {
     "end_time": "2023-04-04T18:51:50.747411Z",
     "start_time": "2023-04-04T18:51:50.745717Z"
    }
   },
   "outputs": [],
   "source": [
    "def expval(O, Ψ):\n",
    "    return inner(Ψ, O @ Ψ).simplify()"
   ]
  },
  {
   "cell_type": "code",
   "execution_count": 34,
   "id": "bd91564e",
   "metadata": {
    "ExecuteTime": {
     "end_time": "2023-04-04T18:51:50.751024Z",
     "start_time": "2023-04-04T18:51:50.748362Z"
    }
   },
   "outputs": [
    {
     "data": {
      "text/latex": [
       "$\\displaystyle 0$"
      ],
      "text/plain": [
       "0"
      ]
     },
     "execution_count": 34,
     "metadata": {},
     "output_type": "execute_result"
    }
   ],
   "source": [
    "expval(σx, Ψ)"
   ]
  },
  {
   "cell_type": "code",
   "execution_count": 35,
   "id": "b1b58d4a",
   "metadata": {
    "ExecuteTime": {
     "end_time": "2023-04-04T18:51:50.804249Z",
     "start_time": "2023-04-04T18:51:50.751780Z"
    }
   },
   "outputs": [
    {
     "data": {
      "text/latex": [
       "$\\displaystyle - \\sin{\\left(\\omega_{l} t \\right)} \\sin{\\left(t Ω_{0} \\right)}$"
      ],
      "text/plain": [
       "-sin(omega_l*t)*sin(t*Ω_0)"
      ]
     },
     "execution_count": 35,
     "metadata": {},
     "output_type": "execute_result"
    }
   ],
   "source": [
    "expval(σx, Ψ_lab)"
   ]
  },
  {
   "cell_type": "code",
   "execution_count": 36,
   "id": "9a625211",
   "metadata": {
    "ExecuteTime": {
     "end_time": "2023-04-04T18:51:50.818374Z",
     "start_time": "2023-04-04T18:51:50.805133Z"
    }
   },
   "outputs": [
    {
     "data": {
      "text/latex": [
       "$\\displaystyle \\sin{\\left(t Ω_{0} \\right)}$"
      ],
      "text/plain": [
       "sin(t*Ω_0)"
      ]
     },
     "execution_count": 36,
     "metadata": {},
     "output_type": "execute_result"
    }
   ],
   "source": [
    "expval(σy, Ψ)"
   ]
  },
  {
   "cell_type": "code",
   "execution_count": 37,
   "id": "6b4cc70e",
   "metadata": {
    "ExecuteTime": {
     "end_time": "2023-04-04T18:51:50.853093Z",
     "start_time": "2023-04-04T18:51:50.819465Z"
    }
   },
   "outputs": [
    {
     "data": {
      "text/latex": [
       "$\\displaystyle \\sin{\\left(t Ω_{0} \\right)} \\cos{\\left(\\omega_{l} t \\right)}$"
      ],
      "text/plain": [
       "sin(t*Ω_0)*cos(omega_l*t)"
      ]
     },
     "execution_count": 37,
     "metadata": {},
     "output_type": "execute_result"
    }
   ],
   "source": [
    "expval(σy, Ψ_lab)"
   ]
  }
 ],
 "metadata": {
  "hide_input": false,
  "kernelspec": {
   "display_name": "Python 3 (ipykernel)",
   "language": "python",
   "name": "python3"
  },
  "language_info": {
   "codemirror_mode": {
    "name": "ipython",
    "version": 3
   },
   "file_extension": ".py",
   "mimetype": "text/x-python",
   "name": "python",
   "nbconvert_exporter": "python",
   "pygments_lexer": "ipython3",
   "version": "3.10.9"
  },
  "toc": {
   "base_numbering": 1,
   "nav_menu": {},
   "number_sections": true,
   "sideBar": true,
   "skip_h1_title": false,
   "title_cell": "Table of Contents",
   "title_sidebar": "Contents",
   "toc_cell": false,
   "toc_position": {
    "height": "calc(100% - 180px)",
    "left": "10px",
    "top": "150px",
    "width": "346.594px"
   },
   "toc_section_display": true,
   "toc_window_display": false
  },
  "varInspector": {
   "cols": {
    "lenName": 16,
    "lenType": 16,
    "lenVar": 40
   },
   "kernels_config": {
    "python": {
     "delete_cmd_postfix": "",
     "delete_cmd_prefix": "del ",
     "library": "var_list.py",
     "varRefreshCmd": "print(var_dic_list())"
    },
    "r": {
     "delete_cmd_postfix": ") ",
     "delete_cmd_prefix": "rm(",
     "library": "var_list.r",
     "varRefreshCmd": "cat(var_dic_list()) "
    }
   },
   "types_to_exclude": [
    "module",
    "function",
    "builtin_function_or_method",
    "instance",
    "_Feature"
   ],
   "window_display": false
  }
 },
 "nbformat": 4,
 "nbformat_minor": 5
}
